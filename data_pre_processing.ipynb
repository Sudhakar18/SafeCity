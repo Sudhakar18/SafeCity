{
 "cells": [
  {
   "cell_type": "code",
   "execution_count": 29,
   "metadata": {},
   "outputs": [],
   "source": [
    "import numpy as np\n",
    "import pandas as pd\n",
    "from tqdm import tqdm\n",
    "from prettytable import PrettyTable\n",
    "import re\n",
    "import warnings\n",
    "warnings.filterwarnings(\"ignore\")"
   ]
  },
  {
   "cell_type": "code",
   "execution_count": 30,
   "metadata": {},
   "outputs": [],
   "source": [
    "train_data = pd.read_csv('data/multilabelClassification/train.csv')\n",
    "test_data = pd.read_csv('data/multilabelClassification/test.csv')\n",
    "dev_data = pd.read_csv('data/multilabelClassification/dev.csv')"
   ]
  },
  {
   "cell_type": "code",
   "execution_count": 31,
   "metadata": {},
   "outputs": [
    {
     "data": {
      "text/html": [
       "<div>\n",
       "<style scoped>\n",
       "    .dataframe tbody tr th:only-of-type {\n",
       "        vertical-align: middle;\n",
       "    }\n",
       "\n",
       "    .dataframe tbody tr th {\n",
       "        vertical-align: top;\n",
       "    }\n",
       "\n",
       "    .dataframe thead th {\n",
       "        text-align: right;\n",
       "    }\n",
       "</style>\n",
       "<table border=\"1\" class=\"dataframe\">\n",
       "  <thead>\n",
       "    <tr style=\"text-align: right;\">\n",
       "      <th></th>\n",
       "      <th>Description</th>\n",
       "      <th>Commenting</th>\n",
       "      <th>Ogling/Facial Expressions/Staring</th>\n",
       "      <th>Touching /Groping</th>\n",
       "    </tr>\n",
       "  </thead>\n",
       "  <tbody>\n",
       "    <tr>\n",
       "      <th>0</th>\n",
       "      <td>Was walking along crowded street, holding mums...</td>\n",
       "      <td>0</td>\n",
       "      <td>0</td>\n",
       "      <td>1</td>\n",
       "    </tr>\n",
       "    <tr>\n",
       "      <th>1</th>\n",
       "      <td>This incident took place in the evening.I was ...</td>\n",
       "      <td>0</td>\n",
       "      <td>1</td>\n",
       "      <td>0</td>\n",
       "    </tr>\n",
       "    <tr>\n",
       "      <th>2</th>\n",
       "      <td>I WAS WAITING FOR THE BUS. A MAN CAME ON A BIK...</td>\n",
       "      <td>1</td>\n",
       "      <td>0</td>\n",
       "      <td>0</td>\n",
       "    </tr>\n",
       "    <tr>\n",
       "      <th>3</th>\n",
       "      <td>Incident happened inside the train</td>\n",
       "      <td>0</td>\n",
       "      <td>0</td>\n",
       "      <td>0</td>\n",
       "    </tr>\n",
       "    <tr>\n",
       "      <th>4</th>\n",
       "      <td>I witnessed an incident when a chain was bruta...</td>\n",
       "      <td>0</td>\n",
       "      <td>0</td>\n",
       "      <td>0</td>\n",
       "    </tr>\n",
       "  </tbody>\n",
       "</table>\n",
       "</div>"
      ],
      "text/plain": [
       "                                         Description  Commenting  \\\n",
       "0  Was walking along crowded street, holding mums...           0   \n",
       "1  This incident took place in the evening.I was ...           0   \n",
       "2  I WAS WAITING FOR THE BUS. A MAN CAME ON A BIK...           1   \n",
       "3                 Incident happened inside the train           0   \n",
       "4  I witnessed an incident when a chain was bruta...           0   \n",
       "\n",
       "   Ogling/Facial Expressions/Staring  Touching /Groping  \n",
       "0                                  0                  1  \n",
       "1                                  1                  0  \n",
       "2                                  0                  0  \n",
       "3                                  0                  0  \n",
       "4                                  0                  0  "
      ]
     },
     "execution_count": 31,
     "metadata": {},
     "output_type": "execute_result"
    }
   ],
   "source": [
    "train_data.head()"
   ]
  },
  {
   "cell_type": "code",
   "execution_count": 32,
   "metadata": {},
   "outputs": [],
   "source": [
    "tag_combination = {(1,1,1):0,(1,1,0):0,(1,0,1):0,(1,0,0):0,(0,1,1):0,(0,1,0):0,(0,0,1):0,(0,0,0):0}\n",
    "\n",
    "for n in range(len(train_data)):\n",
    "    c = train_data.iloc[n]['Commenting']\n",
    "    o = train_data.iloc[n]['Ogling/Facial Expressions/Staring']\n",
    "    g = train_data.iloc[n]['Touching /Groping']\n",
    "    tag_combination[(c,o,g)]+=1"
   ]
  },
  {
   "cell_type": "code",
   "execution_count": 33,
   "metadata": {},
   "outputs": [
    {
     "name": "stdout",
     "output_type": "stream",
     "text": [
      "+------------+-----------------------------------+-------------------+-------+\n",
      "| Commenting | Ogling/Facial Expressions/Staring | Touching /Groping | Count |\n",
      "+------------+-----------------------------------+-------------------+-------+\n",
      "|     1      |                 1                 |         1         |  243  |\n",
      "|     1      |                 1                 |         0         |  600  |\n",
      "|     1      |                 0                 |         1         |  333  |\n",
      "|     1      |                 0                 |         0         |  1644 |\n",
      "|     0      |                 1                 |         1         |  145  |\n",
      "|     0      |                 1                 |         0         |  538  |\n",
      "|     0      |                 0                 |         1         |  1445 |\n",
      "|     0      |                 0                 |         0         |  2253 |\n",
      "+------------+-----------------------------------+-------------------+-------+\n"
     ]
    }
   ],
   "source": [
    "pt = PrettyTable()\n",
    "\n",
    "pt.field_names = [train_data.columns[1],train_data.columns[2],train_data.columns[3],\"Count\"]\n",
    "for comb in tag_combination:\n",
    "    pt.add_row([comb[0],comb[1],comb[2],tag_combination[comb]])\n",
    "print(pt)"
   ]
  },
  {
   "cell_type": "code",
   "execution_count": 34,
   "metadata": {},
   "outputs": [
    {
     "name": "stderr",
     "output_type": "stream",
     "text": [
      "100%|██████████| 7201/7201 [00:00<00:00, 41676.35it/s]"
     ]
    },
    {
     "name": "stdout",
     "output_type": "stream",
     "text": [
      "No comment with html tags\n"
     ]
    },
    {
     "name": "stderr",
     "output_type": "stream",
     "text": [
      "\n"
     ]
    }
   ],
   "source": [
    "row_with_html_tag=0\n",
    "for row in tqdm(range(len(train_data['Description']))):\n",
    "    searchObject = re.search(r'<.*?>',train_data['Description'][row])\n",
    "    if searchObject!=None:\n",
    "        row_with_html_tag+=1\n",
    "        train_data['Description'][row]=re.sub(r'<.*?>',\"\",train_data['Description'][row])   \n",
    "\n",
    "if row_with_html_tag==0:\n",
    "    print(\"No comment with html tags\")\n",
    "else:\n",
    "    print(\"Number of rows with html tags -> {0}\".format(row_with_html_tag))"
   ]
  },
  {
   "cell_type": "code",
   "execution_count": 35,
   "metadata": {},
   "outputs": [
    {
     "name": "stderr",
     "output_type": "stream",
     "text": [
      "100%|██████████| 7201/7201 [00:00<00:00, 7670.54it/s]"
     ]
    },
    {
     "name": "stdout",
     "output_type": "stream",
     "text": [
      "Number of rows numbers and special characters -> 5214\n"
     ]
    },
    {
     "name": "stderr",
     "output_type": "stream",
     "text": [
      "\n"
     ]
    }
   ],
   "source": [
    "row_with_numbers_special_char=0\n",
    "for row in tqdm(range(len(train_data['Description']))):\n",
    "    searchObject = re.search(r'[^a-zA-Z ]',train_data['Description'][row])\n",
    "    if searchObject!=None:\n",
    "        row_with_numbers_special_char+=1\n",
    "        train_data['Description'][row] = re.sub(r'[^a-zA-Z ]',\"\",train_data['Description'][row])\n",
    "        \n",
    "if row_with_numbers_special_char==0:\n",
    "    print(\"No comment with numbers and special characters\")\n",
    "else:\n",
    "    print(\"Number of rows numbers and special characters -> {0}\".format(row_with_numbers_special_char))"
   ]
  },
  {
   "cell_type": "code",
   "execution_count": null,
   "metadata": {},
   "outputs": [],
   "source": []
  }
 ],
 "metadata": {
  "kernelspec": {
   "display_name": "Python 3",
   "language": "python",
   "name": "python3"
  },
  "language_info": {
   "codemirror_mode": {
    "name": "ipython",
    "version": 3
   },
   "file_extension": ".py",
   "mimetype": "text/x-python",
   "name": "python",
   "nbconvert_exporter": "python",
   "pygments_lexer": "ipython3",
   "version": "3.7.6"
  }
 },
 "nbformat": 4,
 "nbformat_minor": 4
}
